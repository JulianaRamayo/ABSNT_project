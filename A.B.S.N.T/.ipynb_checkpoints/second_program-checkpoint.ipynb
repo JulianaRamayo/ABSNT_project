{
 "cells": [
  {
   "cell_type": "markdown",
   "id": "d97f9944",
   "metadata": {},
   "source": [
    "# **Second Program**\n",
    "\n",
    "\n",
    "## Steps:\n",
    "\n",
    "\n",
    "### video -> HaarCascadeClassifier -> FaceNet (CNN) -> FaceSignature (Matrix 128 X 1)-> compare to database"
   ]
  },
  {
   "cell_type": "code",
   "execution_count": 12,
   "id": "ae517493",
   "metadata": {},
   "outputs": [],
   "source": [
    "from PIL import Image\n",
    "\n",
    "from keras.models import load_model\n",
    "import numpy as np\n",
    "from numpy import asarray\n",
    "from numpy import expand_dims\n",
    "from keras_facenet import FaceNet\n",
    "\n",
    "import pickle\n",
    "import cv2"
   ]
  },
  {
   "cell_type": "code",
   "execution_count": 21,
   "id": "213ff6db",
   "metadata": {},
   "outputs": [],
   "source": [
    "haar_cascade = cv2.CascadeClassifier(\"/home/innovalabs/Escritorio/IoT/env/lib/python3.6/site-packages/cv2/data/haarcascade_frontalface_default.xml\")\n",
    "MyFaceNet = FaceNet()"
   ]
  },
  {
   "cell_type": "code",
   "execution_count": 22,
   "id": "f8a430cc",
   "metadata": {},
   "outputs": [],
   "source": [
    "file = open(\"data.pkl\", \"rb\")\n",
    "database = pickle.load(file)\n",
    "file.close()"
   ]
  },
  {
   "cell_type": "code",
   "execution_count": 18,
   "id": "71a39598",
   "metadata": {},
   "outputs": [],
   "source": [
    "cap = cv2.VideoCapture(1)"
   ]
  },
  {
   "cell_type": "code",
   "execution_count": 20,
   "id": "f1658ebe",
   "metadata": {},
   "outputs": [
    {
     "ename": "error",
     "evalue": "OpenCV(4.8.1) /tmp/pip-install-l2pe88r_/opencv-python_5a5bce3f50754bce9f9fea77333e3678/opencv/modules/imgproc/src/color.cpp:182: error: (-215:Assertion failed) !_src.empty() in function 'cvtColor'\n",
     "output_type": "error",
     "traceback": [
      "\u001b[0;31m---------------------------------------------------------------------------\u001b[0m",
      "\u001b[0;31merror\u001b[0m                                     Traceback (most recent call last)",
      "\u001b[0;32m<ipython-input-20-75946e9f5922>\u001b[0m in \u001b[0;36m<module>\u001b[0;34m\u001b[0m\n\u001b[1;32m     11\u001b[0m     \u001b[0mx2\u001b[0m\u001b[0;34m,\u001b[0m \u001b[0my2\u001b[0m \u001b[0;34m=\u001b[0m \u001b[0mx1\u001b[0m \u001b[0;34m+\u001b[0m \u001b[0mwidth\u001b[0m\u001b[0;34m,\u001b[0m \u001b[0my1\u001b[0m \u001b[0;34m+\u001b[0m \u001b[0mheight\u001b[0m\u001b[0;34m\u001b[0m\u001b[0;34m\u001b[0m\u001b[0m\n\u001b[1;32m     12\u001b[0m \u001b[0;34m\u001b[0m\u001b[0m\n\u001b[0;32m---> 13\u001b[0;31m     \u001b[0mgbr\u001b[0m \u001b[0;34m=\u001b[0m \u001b[0mcv2\u001b[0m\u001b[0;34m.\u001b[0m\u001b[0mcvtColor\u001b[0m\u001b[0;34m(\u001b[0m\u001b[0mgbr1\u001b[0m\u001b[0;34m,\u001b[0m \u001b[0mcv2\u001b[0m\u001b[0;34m.\u001b[0m\u001b[0mCOLOR_BGR2RGB\u001b[0m\u001b[0;34m)\u001b[0m\u001b[0;34m\u001b[0m\u001b[0;34m\u001b[0m\u001b[0m\n\u001b[0m\u001b[1;32m     14\u001b[0m     \u001b[0mgbr\u001b[0m \u001b[0;34m=\u001b[0m \u001b[0mImage\u001b[0m\u001b[0;34m.\u001b[0m\u001b[0mfromarray\u001b[0m\u001b[0;34m(\u001b[0m\u001b[0mgbr\u001b[0m\u001b[0;34m)\u001b[0m\u001b[0;34m\u001b[0m\u001b[0;34m\u001b[0m\u001b[0m\n\u001b[1;32m     15\u001b[0m     \u001b[0mgbr_array\u001b[0m \u001b[0;34m=\u001b[0m \u001b[0masarray\u001b[0m\u001b[0;34m(\u001b[0m\u001b[0mgbr\u001b[0m\u001b[0;34m)\u001b[0m\u001b[0;34m\u001b[0m\u001b[0;34m\u001b[0m\u001b[0m\n",
      "\u001b[0;31merror\u001b[0m: OpenCV(4.8.1) /tmp/pip-install-l2pe88r_/opencv-python_5a5bce3f50754bce9f9fea77333e3678/opencv/modules/imgproc/src/color.cpp:182: error: (-215:Assertion failed) !_src.empty() in function 'cvtColor'\n"
     ]
    }
   ],
   "source": [
    "\n",
    "\n",
    "while(1):\n",
    "    _, gbr1 = cap.read()\n",
    "    \n",
    "    face_detection = haar_cascade.detectMultiScale(gbr1,1.1,4)\n",
    "\n",
    "    if len(face_detection) > 0:\n",
    "        x1, y1, width, height = face_detection[0]\n",
    "    else:\n",
    "        x1, y1, width, height = 1, 1, 10, 10\n",
    "    x1, y1 = abs(x1), abs(y1)\n",
    "    x2, y2 = x1 + width, y1 + height\n",
    "    \n",
    "    gbr = cv2.cvtColor(gbr1, cv2.COLOR_BGR2RGB)\n",
    "    gbr = Image.fromarray(gbr)\n",
    "    gbr_array = asarray(gbr)\n",
    "    \n",
    "    # crop image to only the face\n",
    "    face = gbr_array[y1:y2, x1:x2]\n",
    "    \n",
    "    face = expand_dims(face, axis=0) #this converts from 160 x 160 x 3 to 1 x 160 x 160 x 3, as facenet need 4dimension image\n",
    "    signature = MyFaceNet.embeddings(face)\n",
    "    \n",
    "    min_dist = 100\n",
    "    identity = ''\n",
    "    \n",
    "    for key,value in database.items():\n",
    "        dist = np.linalg.norm(value-signature)\n",
    "        if dist < min_dist:\n",
    "            min_dist = dist\n",
    "            identity = key\n",
    "            \n",
    "    cv2.putText(gbr1,identity, (100,100), cv2.FONT_HERSHEY_SIMPLEX,1, (225,225,0), 2, cv2.LINE_AA)\n",
    "    cv2.rectangle(gbr1,(x1,y1),(x2,y2),(0,255,0),2)\n",
    "    \n",
    "    cv2.imshow('res',gbr1)\n",
    "    \n",
    "    cv2.imshow('img',img)\n",
    "\n",
    "    k = cv2.waitKey(0)\n",
    "    if k == 27:         # wait for ESC key to exit\n",
    "        cv2.destroyAllWindows()"
   ]
  },
  {
   "cell_type": "code",
   "execution_count": null,
   "id": "9e770129",
   "metadata": {},
   "outputs": [],
   "source": []
  },
  {
   "cell_type": "code",
   "execution_count": null,
   "id": "4f1117fb",
   "metadata": {},
   "outputs": [],
   "source": []
  }
 ],
 "metadata": {
  "kernelspec": {
   "display_name": "Python 3",
   "language": "python",
   "name": "python3"
  },
  "language_info": {
   "codemirror_mode": {
    "name": "ipython",
    "version": 3
   },
   "file_extension": ".py",
   "mimetype": "text/x-python",
   "name": "python",
   "nbconvert_exporter": "python",
   "pygments_lexer": "ipython3",
   "version": "3.6.9"
  }
 },
 "nbformat": 4,
 "nbformat_minor": 5
}
