{
 "cells": [
  {
   "cell_type": "markdown",
   "id": "521e84e3",
   "metadata": {},
   "source": [
    "# **First Program**\n",
    "\n",
    "\n",
    "## Steps:\n",
    "\n",
    "\n",
    "### dataset_1 -> HaarCascadeClassifier -> FaceNet (CNN) -> FaceSignature (Matrix 128 X 1)-> data.pkl"
   ]
  },
  {
   "cell_type": "code",
   "execution_count": 29,
   "id": "003ed2b1",
   "metadata": {},
   "outputs": [],
   "source": [
    "import os\n",
    "from os import listdir\n",
    "from PIL import Image\n",
    "from numpy import asarray\n",
    "from numpy import expand_dims\n",
    "from matplotlib import pyplot\n",
    "from keras.models import load_model\n",
    "import numpy as np\n",
    "from keras_facenet import FaceNet\n",
    "\n",
    "import pickle\n",
    "import cv2"
   ]
  },
  {
   "cell_type": "code",
   "execution_count": 30,
   "id": "11b39325",
   "metadata": {},
   "outputs": [],
   "source": [
    "haar_cascade = cv2.CascadeClassifier(\"/home/innovalabs/Escritorio/IoT/facenet/haarcascade_frontalface_default.xml\")\n",
    "MyFaceNet = FaceNet()"
   ]
  },
  {
   "cell_type": "code",
   "execution_count": 31,
   "id": "ef86e618",
   "metadata": {},
   "outputs": [],
   "source": [
    "# Path of the data folder to obtain the FaceSignature\n",
    "folder = \"/home/innovalabs/Escritorio/IoT/data/\"\n",
    "\n",
    "database = {}\n",
    "\n",
    "for filename in listdir(folder):\n",
    "    \n",
    "    # path to each image\n",
    "    path = folder + filename\n",
    "    gbr1 = cv2.imread(folder+filename)\n",
    "    \n",
    "    #pass image to haarCC\n",
    "    #1.1 means zooming factor of haarcascade and 4 is the neighboring box to search\n",
    "    face_detection = haar_cascade.detectMultiScale(gbr1,1.1,4)\n",
    "    \n",
    "    #check if haar didnt detect a face, if it didnt just select face as the left corner to prevent errors,\n",
    "    #if it did, select the first face\n",
    "    if len(face_detection) > 0:\n",
    "        x1, y1, width, height = face_detection[0]\n",
    "    else:\n",
    "        x1, y1, width, height = 1, 1, 10, 10\n",
    "        \n",
    "    #select dimentions of face\n",
    "    x1, y1 = abs(x1), abs(y1)\n",
    "    x2, y2 = x1 + width, y1 + height\n",
    "    \n",
    "    # transform image to PIL\n",
    "    gbr = cv2.cvtColor(gbr1, cv2.COLOR_BGR2RGB)\n",
    "    gbr = Image.fromarray(gbr)\n",
    "    gbr_array = asarray(gbr)\n",
    "    \n",
    "    # crop image to only the face\n",
    "    face = gbr_array[y1:y2, x1:x2]\n",
    "    \n",
    "    # resize image to 160 x 160 because facenet uses 160 x 160\n",
    "    face = Image.fromarray(face)\n",
    "    face = face.resize((160,160))\n",
    "    face = asarray(face)\n",
    "    \n",
    "    \n",
    "    # now give the image to facenet... finally\n",
    "    face = expand_dims(face, axis=0) #this converts from 160 x 160 x 3 to 1 x 160 x 160 x 3, as facenet need 4dimension image\n",
    "    signature = MyFaceNet.embeddings(face)\n",
    "\n",
    "    \n",
    "    #save result in database\n",
    "    database[os.path.splitext(filename)[0]] = signature"
   ]
  },
  {
   "cell_type": "code",
   "execution_count": 35,
   "id": "2759cd7e",
   "metadata": {},
   "outputs": [],
   "source": [
    "file = open(\"data.pkl\", \"wb\")\n",
    "pickle.dump(database,file)\n",
    "file.close()"
   ]
  }
 ],
 "metadata": {
  "kernelspec": {
   "display_name": "Python 3",
   "language": "python",
   "name": "python3"
  },
  "language_info": {
   "codemirror_mode": {
    "name": "ipython",
    "version": 3
   },
   "file_extension": ".py",
   "mimetype": "text/x-python",
   "name": "python",
   "nbconvert_exporter": "python",
   "pygments_lexer": "ipython3",
   "version": "3.6.9"
  }
 },
 "nbformat": 4,
 "nbformat_minor": 5
}
